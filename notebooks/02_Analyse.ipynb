{
 "cells": [
  {
   "attachments": {
    "2b47f059-b920-4c1e-9adb-65913e153389.png": {
     "image/png": "[encoded data removed]"
    }
   },
   "cell_type": "markdown",
   "id": "569cb5fb-55a3-462c-a720-b0f51e03a2a9",
   "metadata": {},
   "source": [
    "# Moyennes par channels\n",
    "Le but ici est de comparer les moyennes de chaques electrodes (EXG Channel 0-3) pour voir s'il y a des différences de potentiels.\n",
    "\n",
    "![image.png](attachment:2b47f059-b920-4c1e-9adb-65913e153389.png)"
   ]
  },
  {
   "cell_type": "code",
   "execution_count": 45,
   "id": "74fad1cd-e5df-4380-a003-c40f6d7a6870",
   "metadata": {},
   "outputs": [],
   "source": [
    "import pandas as pd\n",
    "import numpy as np\n",
    "import pickle\n",
    "from scipy.fft import fft, fftfreq\n",
    "from scipy.signal import butter, filtfilt, iirnotch"
   ]
  },
  {
   "cell_type": "code",
   "execution_count": 2,
   "id": "f6e4ab5a-d125-4eb9-9c1e-33530f2d16cd",
   "metadata": {},
   "outputs": [],
   "source": [
    "with open(\"/home/cr0n/Projet EEG/EEG-Intentions/data/Notebook 1/droite_active_epochs.pkl\", \"rb\") as f:\n",
    "    droite_active = pickle.load(f)\n",
    "with open(\"/home/cr0n/Projet EEG/EEG-Intentions/data/Notebook 1/gauche_active_epochs.pkl\", \"rb\") as f:\n",
    "    gauche_active = pickle.load(f)\n",
    "with open(\"/home/cr0n/Projet EEG/EEG-Intentions/data/Notebook 1/avancer_active_epochs.pkl\", \"rb\") as f:\n",
    "    avancer_active = pickle.load(f)\n",
    "with open(\"/home/cr0n/Projet EEG/EEG-Intentions/data/Notebook 1/reculer_active_epochs.pkl\", \"rb\") as f:\n",
    "    reculer_active = pickle.load(f)\n",
    "with open(\"/home/cr0n/Projet EEG/EEG-Intentions/data/Notebook 1/droite_repos_epochs.pkl\", \"rb\") as f:\n",
    "    droite_repos = pickle.load(f)\n",
    "    "
   ]
  },
  {
   "cell_type": "code",
   "execution_count": 3,
   "id": "fda3f7c0-6511-44f3-9220-3a6132116590",
   "metadata": {},
   "outputs": [
    {
     "data": {
      "text/plain": [
       "pandas.core.frame.DataFrame"
      ]
     },
     "execution_count": 3,
     "metadata": {},
     "output_type": "execute_result"
    }
   ],
   "source": [
    "type(droite_active[0])\n"
   ]
  },
  {
   "cell_type": "code",
   "execution_count": 4,
   "id": "cf4c93e5-69ee-4857-be05-44c4982fece9",
   "metadata": {},
   "outputs": [
    {
     "data": {
      "text/html": [
       "<div>\n",
       "<style scoped>\n",
       "    .dataframe tbody tr th:only-of-type {\n",
       "        vertical-align: middle;\n",
       "    }\n",
       "\n",
       "    .dataframe tbody tr th {\n",
       "        vertical-align: top;\n",
       "    }\n",
       "\n",
       "    .dataframe thead th {\n",
       "        text-align: right;\n",
       "    }\n",
       "</style>\n",
       "<table border=\"1\" class=\"dataframe\">\n",
       "  <thead>\n",
       "    <tr style=\"text-align: right;\">\n",
       "      <th></th>\n",
       "      <th>Sample Index</th>\n",
       "      <th>EXG Channel 0</th>\n",
       "      <th>EXG Channel 1</th>\n",
       "      <th>EXG Channel 2</th>\n",
       "      <th>EXG Channel 3</th>\n",
       "      <th>Timestamp</th>\n",
       "      <th>Status</th>\n",
       "    </tr>\n",
       "  </thead>\n",
       "  <tbody>\n",
       "    <tr>\n",
       "      <th>1275</th>\n",
       "      <td>35.0</td>\n",
       "      <td>-2170.262074</td>\n",
       "      <td>-2207.174887</td>\n",
       "      <td>-2056.735541</td>\n",
       "      <td>-1889.608762</td>\n",
       "      <td>1.749061e+09</td>\n",
       "      <td>active</td>\n",
       "    </tr>\n",
       "    <tr>\n",
       "      <th>1276</th>\n",
       "      <td>35.0</td>\n",
       "      <td>-2168.414564</td>\n",
       "      <td>-2204.489639</td>\n",
       "      <td>-2054.985268</td>\n",
       "      <td>-1842.901151</td>\n",
       "      <td>1.749061e+09</td>\n",
       "      <td>None</td>\n",
       "    </tr>\n",
       "    <tr>\n",
       "      <th>1277</th>\n",
       "      <td>36.0</td>\n",
       "      <td>-2166.409977</td>\n",
       "      <td>-2205.095503</td>\n",
       "      <td>-2052.546853</td>\n",
       "      <td>-1912.343614</td>\n",
       "      <td>1.749061e+09</td>\n",
       "      <td>None</td>\n",
       "    </tr>\n",
       "    <tr>\n",
       "      <th>1278</th>\n",
       "      <td>36.0</td>\n",
       "      <td>-2169.446776</td>\n",
       "      <td>-2207.818150</td>\n",
       "      <td>-2053.833379</td>\n",
       "      <td>-1880.838697</td>\n",
       "      <td>1.749061e+09</td>\n",
       "      <td>None</td>\n",
       "    </tr>\n",
       "    <tr>\n",
       "      <th>1279</th>\n",
       "      <td>37.0</td>\n",
       "      <td>-2173.867338</td>\n",
       "      <td>-2206.688700</td>\n",
       "      <td>-2052.232702</td>\n",
       "      <td>-1881.388462</td>\n",
       "      <td>1.749061e+09</td>\n",
       "      <td>None</td>\n",
       "    </tr>\n",
       "  </tbody>\n",
       "</table>\n",
       "</div>"
      ],
      "text/plain": [
       "      Sample Index   EXG Channel 0   EXG Channel 1   EXG Channel 2  \\\n",
       "1275          35.0    -2170.262074    -2207.174887    -2056.735541   \n",
       "1276          35.0    -2168.414564    -2204.489639    -2054.985268   \n",
       "1277          36.0    -2166.409977    -2205.095503    -2052.546853   \n",
       "1278          36.0    -2169.446776    -2207.818150    -2053.833379   \n",
       "1279          37.0    -2173.867338    -2206.688700    -2052.232702   \n",
       "\n",
       "       EXG Channel 3     Timestamp  Status  \n",
       "1275    -1889.608762  1.749061e+09  active  \n",
       "1276    -1842.901151  1.749061e+09    None  \n",
       "1277    -1912.343614  1.749061e+09    None  \n",
       "1278    -1880.838697  1.749061e+09    None  \n",
       "1279    -1881.388462  1.749061e+09    None  "
      ]
     },
     "execution_count": 4,
     "metadata": {},
     "output_type": "execute_result"
    }
   ],
   "source": [
    "droite_active[0].head()"
   ]
  },
  {
   "cell_type": "code",
   "execution_count": 5,
   "id": "1004e176-a35c-4144-b0b0-467ed08eb791",
   "metadata": {},
   "outputs": [
    {
     "data": {
      "text/html": [
       "<div>\n",
       "<style scoped>\n",
       "    .dataframe tbody tr th:only-of-type {\n",
       "        vertical-align: middle;\n",
       "    }\n",
       "\n",
       "    .dataframe tbody tr th {\n",
       "        vertical-align: top;\n",
       "    }\n",
       "\n",
       "    .dataframe thead th {\n",
       "        text-align: right;\n",
       "    }\n",
       "</style>\n",
       "<table border=\"1\" class=\"dataframe\">\n",
       "  <thead>\n",
       "    <tr style=\"text-align: right;\">\n",
       "      <th></th>\n",
       "      <th>EXG Channel 0</th>\n",
       "      <th>EXG Channel 1</th>\n",
       "      <th>EXG Channel 2</th>\n",
       "      <th>EXG Channel 3</th>\n",
       "    </tr>\n",
       "  </thead>\n",
       "  <tbody>\n",
       "    <tr>\n",
       "      <th>1275</th>\n",
       "      <td>-2170.262074</td>\n",
       "      <td>-2207.174887</td>\n",
       "      <td>-2056.735541</td>\n",
       "      <td>-1889.608762</td>\n",
       "    </tr>\n",
       "    <tr>\n",
       "      <th>1276</th>\n",
       "      <td>-2168.414564</td>\n",
       "      <td>-2204.489639</td>\n",
       "      <td>-2054.985268</td>\n",
       "      <td>-1842.901151</td>\n",
       "    </tr>\n",
       "    <tr>\n",
       "      <th>1277</th>\n",
       "      <td>-2166.409977</td>\n",
       "      <td>-2205.095503</td>\n",
       "      <td>-2052.546853</td>\n",
       "      <td>-1912.343614</td>\n",
       "    </tr>\n",
       "    <tr>\n",
       "      <th>1278</th>\n",
       "      <td>-2169.446776</td>\n",
       "      <td>-2207.818150</td>\n",
       "      <td>-2053.833379</td>\n",
       "      <td>-1880.838697</td>\n",
       "    </tr>\n",
       "    <tr>\n",
       "      <th>1279</th>\n",
       "      <td>-2173.867338</td>\n",
       "      <td>-2206.688700</td>\n",
       "      <td>-2052.232702</td>\n",
       "      <td>-1881.388462</td>\n",
       "    </tr>\n",
       "  </tbody>\n",
       "</table>\n",
       "</div>"
      ],
      "text/plain": [
       "      EXG Channel 0  EXG Channel 1  EXG Channel 2  EXG Channel 3\n",
       "1275   -2170.262074   -2207.174887   -2056.735541   -1889.608762\n",
       "1276   -2168.414564   -2204.489639   -2054.985268   -1842.901151\n",
       "1277   -2166.409977   -2205.095503   -2052.546853   -1912.343614\n",
       "1278   -2169.446776   -2207.818150   -2053.833379   -1880.838697\n",
       "1279   -2173.867338   -2206.688700   -2052.232702   -1881.388462"
      ]
     },
     "execution_count": 5,
     "metadata": {},
     "output_type": "execute_result"
    }
   ],
   "source": [
    "droite_active = [df.drop(columns=['Sample Index', ' Timestamp', 'Status']) for df in droite_active]\n",
    "gauche_active = [df.drop(columns=['Sample Index', ' Timestamp', 'Status']) for df in gauche_active]\n",
    "avancer_active = [df.drop(columns=['Sample Index', ' Timestamp', 'Status']) for df in avancer_active]\n",
    "reculer_active = [df.drop(columns=['Sample Index', ' Timestamp', 'Status']) for df in reculer_active]\n",
    "\n",
    "droite_repos = [df.drop(columns=['Sample Index', ' Timestamp', 'Status']) for df in droite_repos]\n",
    "\n",
    "droite_active[0].head()\n",
    "\n"
   ]
  },
  {
   "cell_type": "code",
   "execution_count": 6,
   "id": "1b7ae441-6689-4672-a49b-45baca00b59e",
   "metadata": {},
   "outputs": [
    {
     "data": {
      "text/plain": [
       "EXG Channel 0   -2174.132712\n",
       "EXG Channel 1   -2199.400409\n",
       "EXG Channel 2   -2057.628248\n",
       "EXG Channel 3   -1885.454636\n",
       "dtype: float64"
      ]
     },
     "metadata": {},
     "output_type": "display_data"
    },
    {
     "data": {
      "text/plain": [
       "pandas.core.series.Series"
      ]
     },
     "execution_count": 6,
     "metadata": {},
     "output_type": "execute_result"
    }
   ],
   "source": [
    "# Concaténation pour avoir la moyenne des toutes les epochs\n",
    "moyennes_droite = pd.concat(droite_active).mean(numeric_only=True)\n",
    "moyennes_gauche = pd.concat(gauche_active).mean(numeric_only=True)\n",
    "moyennes_avancer = pd.concat(avancer_active).mean(numeric_only=True)\n",
    "moyennes_reculer = pd.concat(reculer_active).mean(numeric_only=True)\n",
    "moyennes_droite_repos = pd.concat(droite_repos).mean(numeric_only=True)\n",
    "\n",
    "display(moyennes_droite)\n",
    "type(moyennes_droite)\n",
    "\n"
   ]
  },
  {
   "cell_type": "code",
   "execution_count": 22,
   "id": "38f78a2a-17e4-4d70-8547-76cdfe145859",
   "metadata": {},
   "outputs": [
    {
     "data": {
      "text/html": [
       "<div>\n",
       "<style scoped>\n",
       "    .dataframe tbody tr th:only-of-type {\n",
       "        vertical-align: middle;\n",
       "    }\n",
       "\n",
       "    .dataframe tbody tr th {\n",
       "        vertical-align: top;\n",
       "    }\n",
       "\n",
       "    .dataframe thead th {\n",
       "        text-align: right;\n",
       "    }\n",
       "</style>\n",
       "<table border=\"1\" class=\"dataframe\">\n",
       "  <thead>\n",
       "    <tr style=\"text-align: right;\">\n",
       "      <th></th>\n",
       "      <th>gauche</th>\n",
       "      <th>droite</th>\n",
       "      <th>droite_repos</th>\n",
       "      <th>avancer</th>\n",
       "      <th>reculer</th>\n",
       "    </tr>\n",
       "  </thead>\n",
       "  <tbody>\n",
       "    <tr>\n",
       "      <th>EXG Channel 0</th>\n",
       "      <td>-2166.743041</td>\n",
       "      <td>-2174.132712</td>\n",
       "      <td>-2162.395627</td>\n",
       "      <td>-2166.305561</td>\n",
       "      <td>-2171.052505</td>\n",
       "    </tr>\n",
       "    <tr>\n",
       "      <th>EXG Channel 1</th>\n",
       "      <td>-2182.947400</td>\n",
       "      <td>-2199.400409</td>\n",
       "      <td>-2189.618499</td>\n",
       "      <td>-2168.329671</td>\n",
       "      <td>-2178.592777</td>\n",
       "    </tr>\n",
       "    <tr>\n",
       "      <th>EXG Channel 2</th>\n",
       "      <td>-2042.520185</td>\n",
       "      <td>-2057.628248</td>\n",
       "      <td>-2056.853700</td>\n",
       "      <td>-2026.483131</td>\n",
       "      <td>-2011.566833</td>\n",
       "    </tr>\n",
       "    <tr>\n",
       "      <th>EXG Channel 3</th>\n",
       "      <td>-1874.769328</td>\n",
       "      <td>-1885.454636</td>\n",
       "      <td>-1884.149810</td>\n",
       "      <td>-1865.019672</td>\n",
       "      <td>-1858.054051</td>\n",
       "    </tr>\n",
       "  </tbody>\n",
       "</table>\n",
       "</div>"
      ],
      "text/plain": [
       "                    gauche       droite  droite_repos      avancer  \\\n",
       "EXG Channel 0 -2166.743041 -2174.132712  -2162.395627 -2166.305561   \n",
       "EXG Channel 1 -2182.947400 -2199.400409  -2189.618499 -2168.329671   \n",
       "EXG Channel 2 -2042.520185 -2057.628248  -2056.853700 -2026.483131   \n",
       "EXG Channel 3 -1874.769328 -1885.454636  -1884.149810 -1865.019672   \n",
       "\n",
       "                   reculer  \n",
       "EXG Channel 0 -2171.052505  \n",
       "EXG Channel 1 -2178.592777  \n",
       "EXG Channel 2 -2011.566833  \n",
       "EXG Channel 3 -1858.054051  "
      ]
     },
     "metadata": {},
     "output_type": "display_data"
    }
   ],
   "source": [
    "# Crée un DataFrame directement à partir d’un dict de Series\n",
    "df_moyennes = pd.DataFrame({\n",
    "    'gauche': moyennes_gauche,\n",
    "    'droite': moyennes_droite,\n",
    "    'droite_repos': moyennes_droite_repos,\n",
    "    'avancer': moyennes_avancer,\n",
    "    'reculer': moyennes_reculer,\n",
    "    \n",
    "})\n",
    "\n",
    "\n",
    "display(df_moyennes)"
   ]
  },
  {
   "cell_type": "markdown",
   "id": "3d8fc8a2-0116-45a3-9457-8214d44c1dc7",
   "metadata": {},
   "source": [
    "# Résultats\n",
    "\n",
    "1. Comme on peut le voir sur le barplot, il existe une différence de potentiel significative pour chaque électrode, **sauf sur le channel 0**, qui affiche une moyenne d’environ **-2166** pour les classes *avancer* et *gauche*. Cela suggère que ce canal ne contribue peut-être pas efficacement à la discrimination entre ces intentions.\n",
    "\n",
    "Nous allons maintenant effectuer une analyse des **moyennes par epoch** pour la classe **\"avancer\"**, afin d’observer si des variations apparaissent entre les différentes secondes de l’enregistrement."
   ]
  },
  {
   "cell_type": "markdown",
   "id": "bf4e5d42-d86e-4931-a83a-adedb3eb24c1",
   "metadata": {},
   "source": [
    "# Moyennes par epochs"
   ]
  },
  {
   "cell_type": "code",
   "execution_count": 25,
   "id": "5b59102c-fe65-4e39-acf9-40bb7418e0d3",
   "metadata": {},
   "outputs": [
    {
     "data": {
      "text/plain": [
       "<Axes: title={'center': 'Moyennes par epochs'}>"
      ]
     },
     "execution_count": 25,
     "metadata": {},
     "output_type": "execute_result"
    },
    {
     "data": {
      "image/png": "[encoded data removed]",
      "text/plain": [
       "<Figure size 640x480 with 1 Axes>"
      ]
     },
     "metadata": {},
     "output_type": "display_data"
    }
   ],
   "source": [
    "# Créer une liste de Series (une par epoch)\n",
    "liste_moyennes = [epoch.mean(numeric_only=True) for epoch in droite_active]\n",
    "\n",
    "# Crée le DataFrame final avec chaque ligne = un epoch\n",
    "df_epochs = pd.DataFrame(liste_moyennes)\n",
    "\n",
    "## Possibilité de le faire en une ligne: df_epochs = pd.DataFrame([epoch.mean(numeric_only=True) for epoch in droite_active])\n",
    "\n",
    "# Facultatif : nommer les epochs\n",
    "df_epochs.index = [f\"Epoch {i}\" for i in range(len(df_epochs))]\n",
    "\n",
    "# Plot : moyennes par epoch, transposé\n",
    "df_epochs.T.plot(\n",
    "    kind=\"bar\",\n",
    "    title=\"Moyennes par epochs\",\n",
    ")"
   ]
  },
  {
   "cell_type": "code",
   "execution_count": 9,
   "id": "9518d7f7-654c-4b81-8df7-4162722fbf66",
   "metadata": {},
   "outputs": [
    {
     "data": {
      "text/html": [
       "<div>\n",
       "<style scoped>\n",
       "    .dataframe tbody tr th:only-of-type {\n",
       "        vertical-align: middle;\n",
       "    }\n",
       "\n",
       "    .dataframe tbody tr th {\n",
       "        vertical-align: top;\n",
       "    }\n",
       "\n",
       "    .dataframe thead th {\n",
       "        text-align: right;\n",
       "    }\n",
       "</style>\n",
       "<table border=\"1\" class=\"dataframe\">\n",
       "  <thead>\n",
       "    <tr style=\"text-align: right;\">\n",
       "      <th></th>\n",
       "      <th>Epoch 0</th>\n",
       "      <th>Epoch 1</th>\n",
       "      <th>Epoch 2</th>\n",
       "      <th>Epoch 3</th>\n",
       "      <th>Epoch 4</th>\n",
       "      <th>Epoch 5</th>\n",
       "      <th>Epoch 6</th>\n",
       "      <th>Epoch 7</th>\n",
       "      <th>Epoch 8</th>\n",
       "      <th>Epoch 9</th>\n",
       "    </tr>\n",
       "  </thead>\n",
       "  <tbody>\n",
       "    <tr>\n",
       "      <th>EXG Channel 0</th>\n",
       "      <td>-2173.469735</td>\n",
       "      <td>-2179.250322</td>\n",
       "      <td>-2178.493915</td>\n",
       "      <td>-2178.051569</td>\n",
       "      <td>-2170.599387</td>\n",
       "      <td>-2175.434929</td>\n",
       "      <td>-2172.513042</td>\n",
       "      <td>-2171.430190</td>\n",
       "      <td>-2171.481884</td>\n",
       "      <td>-2170.602147</td>\n",
       "    </tr>\n",
       "    <tr>\n",
       "      <th>EXG Channel 1</th>\n",
       "      <td>-2205.183482</td>\n",
       "      <td>-2209.461834</td>\n",
       "      <td>-2205.025551</td>\n",
       "      <td>-2200.808608</td>\n",
       "      <td>-2200.272174</td>\n",
       "      <td>-2198.987978</td>\n",
       "      <td>-2195.930735</td>\n",
       "      <td>-2194.352643</td>\n",
       "      <td>-2192.333124</td>\n",
       "      <td>-2191.647962</td>\n",
       "    </tr>\n",
       "    <tr>\n",
       "      <th>EXG Channel 2</th>\n",
       "      <td>-2063.379691</td>\n",
       "      <td>-2061.592010</td>\n",
       "      <td>-2060.545238</td>\n",
       "      <td>-2059.774557</td>\n",
       "      <td>-2059.265291</td>\n",
       "      <td>-2056.941468</td>\n",
       "      <td>-2056.042001</td>\n",
       "      <td>-2054.361269</td>\n",
       "      <td>-2052.838071</td>\n",
       "      <td>-2051.542883</td>\n",
       "    </tr>\n",
       "    <tr>\n",
       "      <th>EXG Channel 3</th>\n",
       "      <td>-1891.350566</td>\n",
       "      <td>-1890.218909</td>\n",
       "      <td>-1888.736630</td>\n",
       "      <td>-1887.904703</td>\n",
       "      <td>-1886.677077</td>\n",
       "      <td>-1884.460308</td>\n",
       "      <td>-1883.572155</td>\n",
       "      <td>-1881.389847</td>\n",
       "      <td>-1880.736369</td>\n",
       "      <td>-1879.499799</td>\n",
       "    </tr>\n",
       "  </tbody>\n",
       "</table>\n",
       "</div>"
      ],
      "text/plain": [
       "                   Epoch 0      Epoch 1      Epoch 2      Epoch 3  \\\n",
       "EXG Channel 0 -2173.469735 -2179.250322 -2178.493915 -2178.051569   \n",
       "EXG Channel 1 -2205.183482 -2209.461834 -2205.025551 -2200.808608   \n",
       "EXG Channel 2 -2063.379691 -2061.592010 -2060.545238 -2059.774557   \n",
       "EXG Channel 3 -1891.350566 -1890.218909 -1888.736630 -1887.904703   \n",
       "\n",
       "                   Epoch 4      Epoch 5      Epoch 6      Epoch 7  \\\n",
       "EXG Channel 0 -2170.599387 -2175.434929 -2172.513042 -2171.430190   \n",
       "EXG Channel 1 -2200.272174 -2198.987978 -2195.930735 -2194.352643   \n",
       "EXG Channel 2 -2059.265291 -2056.941468 -2056.042001 -2054.361269   \n",
       "EXG Channel 3 -1886.677077 -1884.460308 -1883.572155 -1881.389847   \n",
       "\n",
       "                   Epoch 8      Epoch 9  \n",
       "EXG Channel 0 -2171.481884 -2170.602147  \n",
       "EXG Channel 1 -2192.333124 -2191.647962  \n",
       "EXG Channel 2 -2052.838071 -2051.542883  \n",
       "EXG Channel 3 -1880.736369 -1879.499799  "
      ]
     },
     "metadata": {},
     "output_type": "display_data"
    }
   ],
   "source": [
    "display(df_epochs.T)"
   ]
  },
  {
   "cell_type": "markdown",
   "id": "375b03bb-04f7-4c3d-956c-32fa5790b312",
   "metadata": {},
   "source": [
    "1. Les signaux sont beaucoup plus stables à partir de la seconde 4 (epoch 4), cela explique le spike qu'on voit au début sur le notebook #1"
   ]
  },
  {
   "cell_type": "markdown",
   "id": "7aa2e257-b5ae-4003-b9aa-29e995fc9028",
   "metadata": {},
   "source": [
    "# Transformée de Fourier (FFT)\n",
    "Obtenir les fréquences présentes dans les signaux\n",
    "\n",
    "| **Bande**            | **Fréquence (Hz)** | **Localisation**                   | **États / Fonctions principales**                                                              | **Commentaires / Découvertes**                                       |\n",
    "| -------------------- | ------------------ | ---------------------------------- | ---------------------------------------------------------------------------------------------- | -------------------------------------------------------------------- |\n",
    "| **Delta (δ)**        | 0.5 – 4            | Diffuse                            | Sommeil profond, régénération, parfois présent à l’éveil                                       | Introduit par W. Grey Walter (1936)                                          |\n",
    "| **Theta (θ)**        | 4 – 7.5            | Temporale, frontale (parfois)      | Somnolence, méditation profonde, accès à l’inconscient, inspiration créative                   | Walter & Dovey (1944) ; indicateur de niveau d'éveil                 |\n",
    "| **Alpha (α)**        | 8 – 13             | Occipital, pariétal (postérieur)   | Veille calme, repos visuel, relaxation sans concentration, yeux fermés                         | Berger (1929) ; bloqué par l'ouverture des yeux                      |\n",
    "| **Mu (μ)**           | ~7 – 13            | Régions centrales (rolandiques)    | Repos moteur, inhibé par le mouvement ou le toucher                                            | Corrélé au rythme bêta central ; blocable par activité motrice       |\n",
    "| **Beta (β)**         | 14 – 26            | Frontale et centrale               | Attention active, raisonnement, activité cognitive, résolution de problème, parfois panique    | Basse amplitude (< 30 μV) ; bloqué par activité motrice              |\n",
    "| **Gamma (γ lent)**   | 30 – 70            | Diffuse / spécifique (selon tâche) | Traitement cognitif spécifique, synchronisation liée aux événements (ERS)     | Jasper & Andrews (1938) ; mouvements fins (doigts, langue)           |\n",
    "| **Gamma (γ rapide)** | > 70               | Bilatérale ou localisée            | Traitement cognitif, conscience accrue, attention soutenue, perception sensorielle | Fréquences parfois observées jusqu'à 75 Hz dans certains états alpha |"
   ]
  },
  {
   "cell_type": "code",
   "execution_count": 93,
   "id": "8c3f668e-89b6-4758-8af3-4669f948d7f2",
   "metadata": {},
   "outputs": [
    {
     "name": "stdout",
     "output_type": "stream",
     "text": [
      "\n",
      "=== EXG Channel 0 ===\n",
      "DELTA        : 332973513.85 µV²\t(87.85%)\n",
      "THETA        : 14480267.85 µV²\t(3.82%)\n",
      "ALPHA        : 5056561.21 µV²\t(1.33%)\n",
      "MU           : 6691608.77 µV²\t(1.77%)\n",
      "BETA         : 7475530.75 µV²\t(1.97%)\n",
      "GAMMA_LENT   : 10217164.41 µV²\t(2.70%)\n",
      "GAMMA_RAPIDE : 5960885.99 µV²\t(1.57%)\n",
      "\n",
      "=== EXG Channel 1 ===\n",
      "DELTA        : 271429032.68 µV²\t(87.37%)\n",
      "THETA        : 12419120.83 µV²\t(4.00%)\n",
      "ALPHA        : 4380357.36 µV²\t(1.41%)\n",
      "MU           : 6010641.02 µV²\t(1.93%)\n",
      "BETA         : 6143070.57 µV²\t(1.98%)\n",
      "GAMMA_LENT   : 8505999.66 µV²\t(2.74%)\n",
      "GAMMA_RAPIDE : 5221036.80 µV²\t(1.68%)\n",
      "\n",
      "=== EXG Channel 2 ===\n",
      "DELTA        : 52704894.41 µV²\t(53.77%)\n",
      "THETA        : 7036972.47 µV²\t(7.18%)\n",
      "ALPHA        : 6876815.24 µV²\t(7.02%)\n",
      "MU           : 9724014.27 µV²\t(9.92%)\n",
      "BETA         : 11263089.17 µV²\t(11.49%)\n",
      "GAMMA_LENT   : 9728585.80 µV²\t(9.92%)\n",
      "GAMMA_RAPIDE : 6054031.56 µV²\t(6.18%)\n",
      "\n",
      "=== EXG Channel 3 ===\n",
      "DELTA        : 46090697.21 µV²\t(55.81%)\n",
      "THETA        : 4010186.78 µV²\t(4.86%)\n",
      "ALPHA        : 3814002.10 µV²\t(4.62%)\n",
      "MU           : 4835902.16 µV²\t(5.86%)\n",
      "BETA         : 6526966.04 µV²\t(7.90%)\n",
      "GAMMA_LENT   : 11303828.36 µV²\t(13.69%)\n",
      "GAMMA_RAPIDE : 8321201.02 µV²\t(10.08%)\n"
     ]
    }
   ],
   "source": [
    "fs = 200  # Hz\n",
    "bandes = {\n",
    "    \"delta\": (0.5, 4),\n",
    "    \"theta\": (4, 7.5),\n",
    "    \"alpha\": (8, 13),\n",
    "    \"mu\": (7, 13),\n",
    "    \"beta\": (14, 26),\n",
    "    \"gamma_lent\": (30, 70),\n",
    "    \"gamma_rapide\": (70, fs/2),\n",
    "}\n",
    "\n",
    "# === FFT ===\n",
    "\n",
    "# Pour avoir toutes les epochs concaténées en un seul signal\n",
    "EXGChannels = pd.concat(droite_active)\n",
    "\n",
    "# N : longueur du signal pour appliquer FFT\n",
    "# fftfreq : génère les fréquences associées aux coefficients de la FFT.\n",
    "# 1/fs : 1 échantillon = 1 seconde découpée en 200\n",
    "N = len(EXGChannels)\n",
    "freqs = fftfreq(N, 1/fs)\n",
    "\n",
    "# === Nyquist-Shannon & Filtres ===\n",
    "# Théorème de Nyquist-Shannon : Pour pouvoir reconstruire un signal de fréquence f, il faut l’échantillonner à au moins 2f. Sinon, aliasing.\n",
    "# Comme l’échantillonnage est à 200 Hz, la fréquence maximale exploitable sans aliasing est 200/2 = 100 Hz\n",
    "#\n",
    "# Filtres appliqués pour éliminer le bruit: \n",
    "# -lowpass (0.5 hz)\n",
    "# -highpass (100 Hz)\n",
    "# -notch (60 hz) à noter que cette fréquence peut changer selon la région ex. 50 Hz en Europe\n",
    "#\n",
    "#  On garde donc les fréquences entre 0.5 Hz et 100 Hz, excluant 59–61 Hz.\n",
    "mask_nyquist_filtres = (\n",
    "    (freqs > 0.5) & \n",
    "    (freqs <= 100) &\n",
    "    ~((freqs >= 59) & (freqs <= 61)) # On peut pas écrire == 50 car float\n",
    ")\n",
    "freqs_utile = freqs[mask_nyquist_filtres]\n",
    "\n",
    "# === Analyse de chaque canal ===\n",
    "for channel in EXGChannels.columns :\n",
    "    print(f\"\\n=== {channel.strip()} ===\")\n",
    "\n",
    "    # FFT contient une AMPLITUDE et une PHASE, ce n’est donc pas interprétable directement, il faut transformer avec ->\n",
    "    # amplitude = np.abs(Y) (à quel point la fréquence est présente)\n",
    "    # puissance = np.abs(Y)**2 (quantité d’activité à une fréquence)\n",
    "    Y = fft(EXGChannels[channel])\n",
    "    P = np.abs(Y)**2  # Puissance spectrale\n",
    "\n",
    "    # Sélection des fréquences utiles\n",
    "    P_utile = P[mask_nyquist_filtres]\n",
    "\n",
    "    # Calcule l'intégrale de y (en µV²) par rapport à x (en Hz) selon la règle du trapèze (aire sous la courbe P(f))\n",
    "    total_power = np.trapezoid(P_utile, freqs_utile)\n",
    "\n",
    "    # Analyse par bande\n",
    "    puissances = {}\n",
    "    for nom, (fmin, fmax) in bandes.items():\n",
    "        mask = (freqs_utile >= fmin) & (freqs_utile <= fmax)\n",
    "        p = np.trapezoid(P_utile[mask], freqs_utile[mask])\n",
    "        pct = (p / total_power) * 100\n",
    "        puissances[nom] = {'power': p, 'pct': pct}\n",
    "\n",
    "    # Affichage des résultats\n",
    "    for nom in puissances:\n",
    "        print(f\"{nom.upper():<12} : {puissances[nom]['power']:.2f} µV²\\t({puissances[nom]['pct']:.2f}%)\")\n"
   ]
  },
  {
   "cell_type": "markdown",
   "id": "28464bb3-7df4-4965-8a72-5b882e81c143",
   "metadata": {},
   "source": [
    "# Résultats et Analyse :\n",
    "1. On observe que la bande DELTA, normalement associée au sommeil profond, est fortement surreprésentée dans tous les canaux. Possiblement parce que j'étais un peu fatigué et assis à une table au \"repos\", sans faire autre chose que penser \"droite\".\n",
    "\n",
    "2. Les canaux 0 et 1 (en avant de la tête) ne présentent pas une activité particulière, légèrement prononcée dans les gammas, mais sinon plutôt \"inactifs\" en delta (environ 87%).\n",
    "\n",
    "3. Les canaux 2 et 3 (chaque côté des oreilles) montrent une activité un peu plus intéressante et répartie:\n",
    "\n",
    "- Delta encore dominant, mais moins (environ 50%)\n",
    "- mu  = repos → ce qui fait du sens car j’étais assis lors de l’acquisition des signaux  \n",
    "- bêta = attention active → ce qui fait du sens car je réfléchissais fort à aller à droite  \n",
    "- gamma = traitement cognitif → ce qui fait du sens car je réfléchissais fort à aller à droite\n",
    "\n",
    "# Hypothèses :\n",
    "1. C’est probablement sur canal 2 et 3 qu'on captera des différences entre “droite”, “repos”, “gauche”, etc.\n",
    "2. Penser \"droite\" fait travailler les ondes gamma, mais plus particulièrement sur les côtés de la tête (canaux 2 et 3).\n",
    "\n",
    "On va maintenant faire la comparaison avec \"droite repos\", \"gauche, \"avancer\" et \"reculer\" pour voir les différences.\n"
   ]
  },
  {
   "cell_type": "markdown",
   "id": "e8aa7ba7-10e0-4c81-9424-8d309c19b9c8",
   "metadata": {},
   "source": []
  },
  {
   "cell_type": "code",
   "execution_count": null,
   "id": "5d8f14c2-81ed-4b57-beb4-c8739870a321",
   "metadata": {},
   "outputs": [],
   "source": []
  },
  {
   "cell_type": "markdown",
   "id": "547dd0e4-d2b5-4acd-bd0a-2a447656858b",
   "metadata": {},
   "source": [
    "# Transformée en ondelettes (CWT / DWT)\n",
    "Permet une analyse temps-fréquence pour voir quand les ondes alpha, beta, etc. apparaissent. (changements dans le temps)\n",
    "\n",
    "\n",
    "\n"
   ]
  },
  {
   "cell_type": "markdown",
   "id": "a6920c7f-2fd2-4239-9463-1b666d157aca",
   "metadata": {},
   "source": [
    "# Band Power"
   ]
  },
  {
   "cell_type": "markdown",
   "id": "7d76afa8-ca6f-47b1-9d78-a4fec149169e",
   "metadata": {},
   "source": [
    "# CSP (Common Spatial Patterns)\n",
    "filtrage spatial supervisé pour maximiser la séparation entre deux classes (ex. gauche/droite)."
   ]
  },
  {
   "cell_type": "markdown",
   "id": "5421dbc7-182a-4269-8d3a-9ed0153d0678",
   "metadata": {},
   "source": [
    "# PCA / ICA / SVD (réduction de dimension / artefacts)\n",
    "ICA (Independent Component Analysis) est utilisé pour enlever les artefacts (ex. clignements des yeux).\n",
    "\n",
    "PCA/SVD peuvent servir à réduire la dimension des données avant classification.\n",
    "\n",
    "\n"
   ]
  },
  {
   "cell_type": "code",
   "execution_count": null,
   "id": "931f6daa-662c-461f-9fa6-3eb87a716fdb",
   "metadata": {},
   "outputs": [],
   "source": []
  },
  {
   "cell_type": "code",
   "execution_count": null,
   "id": "17ff465a-4342-4d09-97ad-344d0a051a8d",
   "metadata": {},
   "outputs": [],
   "source": []
  }
 ],
 "metadata": {
  "kernelspec": {
   "display_name": "Python 3 (ipykernel)",
   "language": "python",
   "name": "python3"
  },
  "language_info": {
   "codemirror_mode": {
    "name": "ipython",
    "version": 3
   },
   "file_extension": ".py",
   "mimetype": "text/x-python",
   "name": "python",
   "nbconvert_exporter": "python",
   "pygments_lexer": "ipython3",
   "version": "3.13.3"
  }
 },
 "nbformat": 4,
 "nbformat_minor": 5
}
